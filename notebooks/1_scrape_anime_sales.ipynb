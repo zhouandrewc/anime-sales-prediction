{
 "cells": [
  {
   "cell_type": "markdown",
   "metadata": {},
   "source": [
    "# Step 1: Scraping Anime Sales Data\n",
    "\n",
    "**Metis Project 2, Andrew Zhou**"
   ]
  },
  {
   "cell_type": "markdown",
   "metadata": {},
   "source": [
    "We begin our project by scraping and parsing anie sales data from https://www.someanithing.com/series-data-quick-view\n",
    "."
   ]
  },
  {
   "cell_type": "code",
   "execution_count": 1,
   "metadata": {
    "ExecuteTime": {
     "end_time": "2020-10-12T21:48:38.763471Z",
     "start_time": "2020-10-12T21:48:38.509861Z"
    }
   },
   "outputs": [],
   "source": [
    "from bs4 import BeautifulSoup\n",
    "import pandas as pd\n",
    "import requests\n",
    "import re\n",
    "import pickle\n",
    "import time"
   ]
  },
  {
   "cell_type": "code",
   "execution_count": 2,
   "metadata": {
    "ExecuteTime": {
     "end_time": "2020-10-12T21:48:41.646829Z",
     "start_time": "2020-10-12T21:48:39.451635Z"
    }
   },
   "outputs": [],
   "source": [
    "url = \"https://www.someanithing.com/series-data-quick-view\"\n",
    "soup = BeautifulSoup(requests.get(url).text, \"lxml\")\n",
    "\n",
    "els = soup.find_all(lambda tag: tag.name == \"td\" and tag.parent.name == \"tr\")\n",
    "els = map(lambda x: str(x.string), els)\n",
    "\n",
    "# With some itertools manipulations, we can grab an entire row of data at\n",
    "# a time sales_data is a list of 9-tuple, where each tuple contains the \n",
    "# scraped information for a single anime series\n",
    "it = iter(els)\n",
    "sales_data = list(zip(*[it]*9))\n",
    "\n",
    "# The column names\n",
    "cols = [\"title\", \"year\", \"season_qtr\", \"avg_sales\", \"re_rls\", \"total\", \"gross_1st_rls\", \"studio\", \"source\"]\n",
    "\n",
    "anime_dict = {}\n",
    "\n",
    "# When the starting letters reset, we've reached the end\n",
    "# of TV series. We're not interested in shorter-form releases\n",
    "# like movies, so we use this tracker to know when to stop.\n",
    "prev_starting_letter = \"A\"\n",
    "\n",
    "for anime_data in sales_data:\n",
    "    single_series_info = dict(zip(cols, anime_data))    \n",
    "    \n",
    "    # one anime title doesn't parse properly\n",
    "    if single_series_info[\"title\"] == None:\n",
    "        single_series_info[\"title\"] = \"Dog Days\\\"\"\n",
    "    \n",
    "    starting_letter = single_series_info[\"title\"][0]\n",
    "\n",
    "    # We've finished scraping TV series, so stop\n",
    "    if prev_starting_letter == \"Z\" and starting_letter == \"A\":\n",
    "        break\n",
    "        \n",
    "    prev_starting_letter = starting_letter\n",
    "    \n",
    "    anime_dict[single_series_info[\"title\"]] = single_series_info\n",
    "\n",
    "anime_df = pd.DataFrame.from_dict(anime_dict, orient=\"index\")"
   ]
  },
  {
   "cell_type": "markdown",
   "metadata": {},
   "source": [
    "Do some manual cleaning"
   ]
  },
  {
   "cell_type": "code",
   "execution_count": 3,
   "metadata": {
    "ExecuteTime": {
     "end_time": "2020-10-12T21:48:42.273992Z",
     "start_time": "2020-10-12T21:48:42.262089Z"
    }
   },
   "outputs": [],
   "source": [
    "# Manually fix certain studio names so we can properly match series\n",
    "# to their studios in MyAnimeList. Full matching performed later.\n",
    "fix_studios = {\n",
    "    \"G Plus\": \"AIC\",\n",
    "    \"Douga Koubou\": \"Doga Kobo\",\n",
    "    \"EMT²\": \"EMT Squared\",\n",
    "    \"EMT² \": \"EMT Squared\",\n",
    "    \"Oriental Light and Magic\": \"OLM\",\n",
    "    \"M.S.C.\": \"M.S.C\",\n",
    "    \"Phoenix Animation\": \"BigFireBird Animation\",\n",
    "    \"Studio Nut\": \"Nut\",\n",
    "    \"DIomedia\": \"Diomedea\",\n",
    "    \"Diomedia\": \"Diomedea\",\n",
    "    \"DandeLion Animation\": \"DandeLion Animation Studio\",\n",
    "    \"Haoliners\": \"Haoliners Animation League\",\n",
    "    \"Studio APPP\": \"APPP\",\n",
    "    \"Duame\": \"Daume\",\n",
    "    \"Ezola\": \"Ezόla\",\n",
    "    \"Pierrot+\": \"Pierrot Plus\",\n",
    "    \"Studio Puyaki\": \"Studio PuYUKAI\",\n",
    "    \"Studio PuYAKAI\": \"Studio PuYUKAI\",\n",
    "    \"For All\": \"Shin-Ei Animation\",\n",
    "    \"Asia-Do\": \"Ajia-Do\",\n",
    "    \"M2\": \"Studio M2\",\n",
    "}\n",
    "\n",
    "anime_df[\"studio\"] = anime_df[\"studio\"].map(lambda x: fix_studios[x] if x in fix_studios else x)\n",
    "\n",
    "# The studio \"Wonderfarm\" is listed as producing these two series \n",
    "# and no others. MyAnimeList lists them with different studios, so \n",
    "# we fix that here.\n",
    "anime_df.loc[\"Mousou Kagaku Series Wandaba Style\"][\"studio\"] = \"TNK\"\n",
    "anime_df.loc[\"Tenshi no Shippo\"][\"studio\"] = \"Tokyo Kids\"\n",
    "# Puso Ni Comi has no studio listed, but its producer is Sega and it\n",
    "# can be found on Sega's page\n",
    "anime_df.loc[\"Puso Ni Comi\"][\"studio\"] = \"Sega\"\n",
    "\n",
    "# Remove the second studio from anime with two studios for simplicity\n",
    "anime_df = anime_df.applymap(lambda x: x if \",\" not in x else x.split(\",\")[0])"
   ]
  },
  {
   "cell_type": "code",
   "execution_count": 8,
   "metadata": {
    "ExecuteTime": {
     "end_time": "2020-10-12T17:19:59.895081Z",
     "start_time": "2020-10-12T17:19:59.890329Z"
    }
   },
   "outputs": [],
   "source": [
    "# studio names not yet matched to MAL\n",
    "anime_df.to_pickle(\"../data/anime_sales_df_unmatched.pickle\")"
   ]
  },
  {
   "cell_type": "code",
   "execution_count": null,
   "metadata": {},
   "outputs": [],
   "source": []
  }
 ],
 "metadata": {
  "kernelspec": {
   "display_name": "Python 3",
   "language": "python",
   "name": "python3"
  },
  "language_info": {
   "codemirror_mode": {
    "name": "ipython",
    "version": 3
   },
   "file_extension": ".py",
   "mimetype": "text/x-python",
   "name": "python",
   "nbconvert_exporter": "python",
   "pygments_lexer": "ipython3",
   "version": "3.8.5"
  },
  "toc": {
   "base_numbering": 1,
   "nav_menu": {},
   "number_sections": true,
   "sideBar": true,
   "skip_h1_title": false,
   "title_cell": "Table of Contents",
   "title_sidebar": "Contents",
   "toc_cell": false,
   "toc_position": {},
   "toc_section_display": true,
   "toc_window_display": false
  },
  "varInspector": {
   "cols": {
    "lenName": 16,
    "lenType": 16,
    "lenVar": 40
   },
   "kernels_config": {
    "python": {
     "delete_cmd_postfix": "",
     "delete_cmd_prefix": "del ",
     "library": "var_list.py",
     "varRefreshCmd": "print(var_dic_list())"
    },
    "r": {
     "delete_cmd_postfix": ") ",
     "delete_cmd_prefix": "rm(",
     "library": "var_list.r",
     "varRefreshCmd": "cat(var_dic_list()) "
    }
   },
   "types_to_exclude": [
    "module",
    "function",
    "builtin_function_or_method",
    "instance",
    "_Feature"
   ],
   "window_display": false
  }
 },
 "nbformat": 4,
 "nbformat_minor": 4
}
