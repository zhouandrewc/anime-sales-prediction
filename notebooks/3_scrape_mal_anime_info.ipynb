{
 "cells": [
  {
   "cell_type": "markdown",
   "metadata": {},
   "source": [
    "# Step 3: Scrape MyAnimeList Information\n",
    "\n",
    "**Metis Project 2, Andrew Zhou**"
   ]
  },
  {
   "cell_type": "markdown",
   "metadata": {},
   "source": [
    "Now that we've linked the anime from our sales database to MyAnimeList, we scrape all the information we want from MAL."
   ]
  },
  {
   "cell_type": "code",
   "execution_count": 1,
   "metadata": {
    "ExecuteTime": {
     "end_time": "2020-10-13T17:42:10.735825Z",
     "start_time": "2020-10-13T17:42:10.479889Z"
    }
   },
   "outputs": [],
   "source": [
    "from bs4 import BeautifulSoup\n",
    "import pandas as pd\n",
    "import requests\n",
    "import re\n",
    "import pickle\n",
    "import time\n",
    "import sys\n",
    "\n",
    "sys.path.append('..')\n",
    "\n",
    "from utilities.scraping_utilities import \\\n",
    "    get_anime_link, get_anime_data, create_mal_info_df\n",
    "\n",
    "import pandas as pd\n",
    "import numpy as np"
   ]
  },
  {
   "cell_type": "code",
   "execution_count": 2,
   "metadata": {
    "ExecuteTime": {
     "end_time": "2020-10-13T17:42:11.075043Z",
     "start_time": "2020-10-13T17:42:11.063006Z"
    }
   },
   "outputs": [],
   "source": [
    "anime_sales_df = pd.read_pickle(\"../data/anime_sales_df_matched.pickle\")\n",
    "studio_df = pd.read_pickle(\"../data/studio_df.pickle\")"
   ]
  },
  {
   "cell_type": "markdown",
   "metadata": {},
   "source": [
    "## Looking at the Studio DataFrame\n",
    "\n",
    "Let's take a look at the format of the data."
   ]
  },
  {
   "cell_type": "code",
   "execution_count": 19,
   "metadata": {
    "ExecuteTime": {
     "end_time": "2020-10-13T17:44:39.352977Z",
     "start_time": "2020-10-13T17:44:39.342493Z"
    }
   },
   "outputs": [
    {
     "data": {
      "text/html": [
       "<div>\n",
       "<style scoped>\n",
       "    .dataframe tbody tr th:only-of-type {\n",
       "        vertical-align: middle;\n",
       "    }\n",
       "\n",
       "    .dataframe tbody tr th {\n",
       "        vertical-align: top;\n",
       "    }\n",
       "\n",
       "    .dataframe thead th {\n",
       "        text-align: right;\n",
       "    }\n",
       "</style>\n",
       "<table border=\"1\" class=\"dataframe\">\n",
       "  <thead>\n",
       "    <tr style=\"text-align: right;\">\n",
       "      <th></th>\n",
       "      <th>link</th>\n",
       "      <th>anime_info</th>\n",
       "    </tr>\n",
       "  </thead>\n",
       "  <tbody>\n",
       "    <tr>\n",
       "      <th>8bit</th>\n",
       "      <td>https://myanimelist.net/anime/producer/441/8bit</td>\n",
       "      <td>{'Tensei shitara Slime Datta Ken': 'https://my...</td>\n",
       "    </tr>\n",
       "    <tr>\n",
       "      <th>A-1 Pictures</th>\n",
       "      <td>https://myanimelist.net/anime/producer/56/A-1_...</td>\n",
       "      <td>{'Sword Art Online': 'https://myanimelist.net/...</td>\n",
       "    </tr>\n",
       "    <tr>\n",
       "      <th>A-Real</th>\n",
       "      <td>https://myanimelist.net/anime/producer/1257/A-...</td>\n",
       "      <td>{'Kenka Banchou Otome: Girl Beats Boys': 'http...</td>\n",
       "    </tr>\n",
       "    <tr>\n",
       "      <th>A.C.G.T.</th>\n",
       "      <td>https://myanimelist.net/anime/producer/179/ACGT</td>\n",
       "      <td>{'Freezing': 'https://myanimelist.net/anime/93...</td>\n",
       "    </tr>\n",
       "    <tr>\n",
       "      <th>Acca effe</th>\n",
       "      <td>https://myanimelist.net/anime/producer/2085/Ac...</td>\n",
       "      <td>{'Strike Witches: 501 Butai Hasshin Shimasu!':...</td>\n",
       "    </tr>\n",
       "  </tbody>\n",
       "</table>\n",
       "</div>"
      ],
      "text/plain": [
       "                                                           link  \\\n",
       "8bit            https://myanimelist.net/anime/producer/441/8bit   \n",
       "A-1 Pictures  https://myanimelist.net/anime/producer/56/A-1_...   \n",
       "A-Real        https://myanimelist.net/anime/producer/1257/A-...   \n",
       "A.C.G.T.        https://myanimelist.net/anime/producer/179/ACGT   \n",
       "Acca effe     https://myanimelist.net/anime/producer/2085/Ac...   \n",
       "\n",
       "                                                     anime_info  \n",
       "8bit          {'Tensei shitara Slime Datta Ken': 'https://my...  \n",
       "A-1 Pictures  {'Sword Art Online': 'https://myanimelist.net/...  \n",
       "A-Real        {'Kenka Banchou Otome: Girl Beats Boys': 'http...  \n",
       "A.C.G.T.      {'Freezing': 'https://myanimelist.net/anime/93...  \n",
       "Acca effe     {'Strike Witches: 501 Butai Hasshin Shimasu!':...  "
      ]
     },
     "execution_count": 19,
     "metadata": {},
     "output_type": "execute_result"
    }
   ],
   "source": [
    "studio_df.head(5)"
   ]
  },
  {
   "cell_type": "code",
   "execution_count": 20,
   "metadata": {
    "ExecuteTime": {
     "end_time": "2020-10-13T17:44:39.863707Z",
     "start_time": "2020-10-13T17:44:39.860341Z"
    }
   },
   "outputs": [
    {
     "data": {
      "text/plain": [
       "{'Uchuu Koukyoushi Maetel: Ginga Tetsudou 999 Gaiden': 'https://myanimelist.net/anime/1377/Uchuu_Koukyoushi_Maetel__Ginga_Tetsudou_999_Gaiden',\n",
       " 'Chou Kuse ni Narisou': 'https://myanimelist.net/anime/2771/Chou_Kuse_ni_Narisou',\n",
       " 'Shima Shima Tora no Shimajirou': 'https://myanimelist.net/anime/9768/Shima_Shima_Tora_no_Shimajirou'}"
      ]
     },
     "execution_count": 20,
     "metadata": {},
     "output_type": "execute_result"
    }
   ],
   "source": [
    "studio_df.iloc[20][\"anime_info\"]"
   ]
  },
  {
   "cell_type": "markdown",
   "metadata": {},
   "source": [
    "An example of the anime info for a studio."
   ]
  },
  {
   "cell_type": "markdown",
   "metadata": {},
   "source": [
    "## Matching Anime to MAL Links"
   ]
  },
  {
   "cell_type": "markdown",
   "metadata": {},
   "source": [
    "Now let's match anime in the sales data to their MAL links. We use fuzzy matching because\n",
    "some names are slightly different. Some anime fail to be matched, and we drop them. A few will match erroneously and require manual cleaning, which may be done as future work."
   ]
  },
  {
   "cell_type": "code",
   "execution_count": 21,
   "metadata": {
    "ExecuteTime": {
     "end_time": "2020-10-13T17:46:14.586239Z",
     "start_time": "2020-10-13T17:46:13.507448Z"
    }
   },
   "outputs": [],
   "source": [
    "def get_anime_link_helper(x):\n",
    "    \"\"\"\n",
    "    Helper for DataFrame.apply's function parameter below. Preferred to\n",
    "    lambda function because of clarity.\n",
    "    \"\"\"\n",
    "    studio_anime_info = studio_df.loc[x[\"studio\"]][\"anime_info\"]\n",
    "    return get_anime_link(x[\"title\"], studio_anime_info, \n",
    "                          fuzzy_match = True, ratio = 90)\n",
    "\n",
    "anime_sales_df[\"link\"] = anime_sales_df.apply(get_anime_link_helper, axis=1)\n",
    "anime_sales_df = anime_sales_df.dropna(subset=[\"link\"])"
   ]
  },
  {
   "cell_type": "markdown",
   "metadata": {},
   "source": [
    "## Scraping MAL Anime Data\n",
    "\n",
    "Now we finally scrape anime data from MAL, specifying the information we want to keep."
   ]
  },
  {
   "cell_type": "code",
   "execution_count": null,
   "metadata": {
    "ExecuteTime": {
     "end_time": "2020-10-13T18:48:49.318115Z",
     "start_time": "2020-10-13T17:46:42.060299Z"
    },
    "scrolled": true
   },
   "outputs": [],
   "source": [
    "keep_cols = [\"episodes\", \"broadcast\", \"genres\", \"duration\", \"rating\",\\\n",
    "        \"score\", \"members\", \"favorites\"]\n",
    "\n",
    "mal_info_df = create_mal_info_df(anime_sales_df[[\"title\", \"link\"]], keep_cols)"
   ]
  },
  {
   "cell_type": "markdown",
   "metadata": {},
   "source": [
    "Since `create_mal_info_df` can fail on certain pages when we're rate-limited, we include code to find the list of anime where the query failed, scrape MAL information for only those anime, and then integrate the information with our existing dataframe. If we fail again, we can run this code repeatedly until we have scraped all our desired information."
   ]
  },
  {
   "cell_type": "code",
   "execution_count": 35,
   "metadata": {
    "ExecuteTime": {
     "end_time": "2020-10-13T18:59:06.678021Z",
     "start_time": "2020-10-13T18:59:06.666141Z"
    }
   },
   "outputs": [],
   "source": [
    "#additional_info = create_mal_info_df(anime_sales_df[mal_info_df[\"score\"].isnull()][[\"title\", \"link\"]], keep_cols)\n",
    "#mal_info_df = mal_info_df.combine_first(additional_info)"
   ]
  },
  {
   "cell_type": "code",
   "execution_count": 37,
   "metadata": {
    "ExecuteTime": {
     "end_time": "2020-10-13T19:01:46.277111Z",
     "start_time": "2020-10-13T19:01:46.269478Z"
    }
   },
   "outputs": [],
   "source": [
    "anime_sales_df.to_pickle(\"../data/anime_sales_df_linked.pickle\") \n",
    "mal_info_df.to_pickle(\"../data/mal_info_df.pickle\")"
   ]
  }
 ],
 "metadata": {
  "kernelspec": {
   "display_name": "Python 3",
   "language": "python",
   "name": "python3"
  },
  "language_info": {
   "codemirror_mode": {
    "name": "ipython",
    "version": 3
   },
   "file_extension": ".py",
   "mimetype": "text/x-python",
   "name": "python",
   "nbconvert_exporter": "python",
   "pygments_lexer": "ipython3",
   "version": "3.8.5"
  },
  "toc": {
   "base_numbering": 1,
   "nav_menu": {},
   "number_sections": true,
   "sideBar": true,
   "skip_h1_title": false,
   "title_cell": "Table of Contents",
   "title_sidebar": "Contents",
   "toc_cell": false,
   "toc_position": {},
   "toc_section_display": true,
   "toc_window_display": false
  },
  "varInspector": {
   "cols": {
    "lenName": 16,
    "lenType": 16,
    "lenVar": 40
   },
   "kernels_config": {
    "python": {
     "delete_cmd_postfix": "",
     "delete_cmd_prefix": "del ",
     "library": "var_list.py",
     "varRefreshCmd": "print(var_dic_list())"
    },
    "r": {
     "delete_cmd_postfix": ") ",
     "delete_cmd_prefix": "rm(",
     "library": "var_list.r",
     "varRefreshCmd": "cat(var_dic_list()) "
    }
   },
   "types_to_exclude": [
    "module",
    "function",
    "builtin_function_or_method",
    "instance",
    "_Feature"
   ],
   "window_display": false
  }
 },
 "nbformat": 4,
 "nbformat_minor": 4
}
