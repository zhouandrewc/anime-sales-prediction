{
 "cells": [
  {
   "cell_type": "markdown",
   "metadata": {},
   "source": [
    "# Step 3: Scrape MyAnimeList Information\n",
    "\n",
    "**Metis Project 2, Andrew Zhou**"
   ]
  },
  {
   "cell_type": "markdown",
   "metadata": {},
   "source": [
    "Now that we've linked the anime from our sales database to MyAnimeList, we scrape all the information we want from MAL."
   ]
  },
  {
   "cell_type": "code",
   "execution_count": 2,
   "metadata": {
    "ExecuteTime": {
     "end_time": "2020-10-12T21:13:37.935409Z",
     "start_time": "2020-10-12T21:13:37.911238Z"
    }
   },
   "outputs": [],
   "source": [
    "from bs4 import BeautifulSoup\n",
    "import pandas as pd\n",
    "import requests\n",
    "import re\n",
    "import pickle\n",
    "import time\n",
    "import sys\n",
    "\n",
    "sys.path.append('..')\n",
    "\n",
    "from utilities.scraping_utilities import \\\n",
    "    get_anime_link, get_anime_data, create_mal_info_df\n",
    "\n",
    "import pandas as pd\n",
    "import numpy as np\n",
    "\n",
    "%load_ext autoreload\n",
    "%autoreload 2"
   ]
  },
  {
   "cell_type": "code",
   "execution_count": 3,
   "metadata": {
    "ExecuteTime": {
     "end_time": "2020-10-12T21:13:38.771705Z",
     "start_time": "2020-10-12T21:13:38.744354Z"
    }
   },
   "outputs": [],
   "source": [
    "anime_sales_df = pd.read_pickle(\"../data/anime_sales_df_matched.pickle\")\n",
    "studio_df = pd.read_pickle(\"../data/studio_df.pickle\")"
   ]
  },
  {
   "cell_type": "code",
   "execution_count": 4,
   "metadata": {
    "ExecuteTime": {
     "end_time": "2020-10-12T21:13:39.792271Z",
     "start_time": "2020-10-12T21:13:39.756188Z"
    }
   },
   "outputs": [
    {
     "data": {
      "text/html": [
       "<div>\n",
       "<style scoped>\n",
       "    .dataframe tbody tr th:only-of-type {\n",
       "        vertical-align: middle;\n",
       "    }\n",
       "\n",
       "    .dataframe tbody tr th {\n",
       "        vertical-align: top;\n",
       "    }\n",
       "\n",
       "    .dataframe thead th {\n",
       "        text-align: right;\n",
       "    }\n",
       "</style>\n",
       "<table border=\"1\" class=\"dataframe\">\n",
       "  <thead>\n",
       "    <tr style=\"text-align: right;\">\n",
       "      <th></th>\n",
       "      <th>link</th>\n",
       "      <th>anime_info</th>\n",
       "    </tr>\n",
       "  </thead>\n",
       "  <tbody>\n",
       "    <tr>\n",
       "      <th>8bit</th>\n",
       "      <td>https://myanimelist.net/anime/producer/441/8bit</td>\n",
       "      <td>{'Tensei shitara Slime Datta Ken': 'https://my...</td>\n",
       "    </tr>\n",
       "    <tr>\n",
       "      <th>A-1 Pictures</th>\n",
       "      <td>https://myanimelist.net/anime/producer/56/A-1_...</td>\n",
       "      <td>{'Sword Art Online': 'https://myanimelist.net/...</td>\n",
       "    </tr>\n",
       "    <tr>\n",
       "      <th>A-Real</th>\n",
       "      <td>https://myanimelist.net/anime/producer/1257/A-...</td>\n",
       "      <td>{'Kenka Banchou Otome: Girl Beats Boys': 'http...</td>\n",
       "    </tr>\n",
       "    <tr>\n",
       "      <th>A.C.G.T.</th>\n",
       "      <td>https://myanimelist.net/anime/producer/179/ACGT</td>\n",
       "      <td>{'Freezing': 'https://myanimelist.net/anime/93...</td>\n",
       "    </tr>\n",
       "    <tr>\n",
       "      <th>Acca effe</th>\n",
       "      <td>https://myanimelist.net/anime/producer/2085/Ac...</td>\n",
       "      <td>{'Strike Witches: 501 Butai Hasshin Shimasu!':...</td>\n",
       "    </tr>\n",
       "    <tr>\n",
       "      <th>...</th>\n",
       "      <td>...</td>\n",
       "      <td>...</td>\n",
       "    </tr>\n",
       "    <tr>\n",
       "      <th>Wolfsbane</th>\n",
       "      <td>https://myanimelist.net/anime/producer/2052/Wo...</td>\n",
       "      <td>{'Peter Grill to Kenja no Jikan': 'https://mya...</td>\n",
       "    </tr>\n",
       "    <tr>\n",
       "      <th>Xebec</th>\n",
       "      <td>https://myanimelist.net/anime/producer/27/Xebec</td>\n",
       "      <td>{'To LOVE-Ru': 'https://myanimelist.net/anime/...</td>\n",
       "    </tr>\n",
       "    <tr>\n",
       "      <th>Yumeta Company</th>\n",
       "      <td>https://myanimelist.net/anime/producer/96/Yume...</td>\n",
       "      <td>{'Akkun to Kanojo': 'https://myanimelist.net/a...</td>\n",
       "    </tr>\n",
       "    <tr>\n",
       "      <th>Zero-G</th>\n",
       "      <td>https://myanimelist.net/anime/producer/1379/Ze...</td>\n",
       "      <td>{'Grand Blue': 'https://myanimelist.net/anime/...</td>\n",
       "    </tr>\n",
       "    <tr>\n",
       "      <th>Zexcs</th>\n",
       "      <td>https://myanimelist.net/anime/producer/218/Zexcs</td>\n",
       "      <td>{'Sukitte Ii na yo.': 'https://myanimelist.net...</td>\n",
       "    </tr>\n",
       "  </tbody>\n",
       "</table>\n",
       "<p>193 rows × 2 columns</p>\n",
       "</div>"
      ],
      "text/plain": [
       "                                                             link  \\\n",
       "8bit              https://myanimelist.net/anime/producer/441/8bit   \n",
       "A-1 Pictures    https://myanimelist.net/anime/producer/56/A-1_...   \n",
       "A-Real          https://myanimelist.net/anime/producer/1257/A-...   \n",
       "A.C.G.T.          https://myanimelist.net/anime/producer/179/ACGT   \n",
       "Acca effe       https://myanimelist.net/anime/producer/2085/Ac...   \n",
       "...                                                           ...   \n",
       "Wolfsbane       https://myanimelist.net/anime/producer/2052/Wo...   \n",
       "Xebec             https://myanimelist.net/anime/producer/27/Xebec   \n",
       "Yumeta Company  https://myanimelist.net/anime/producer/96/Yume...   \n",
       "Zero-G          https://myanimelist.net/anime/producer/1379/Ze...   \n",
       "Zexcs            https://myanimelist.net/anime/producer/218/Zexcs   \n",
       "\n",
       "                                                       anime_info  \n",
       "8bit            {'Tensei shitara Slime Datta Ken': 'https://my...  \n",
       "A-1 Pictures    {'Sword Art Online': 'https://myanimelist.net/...  \n",
       "A-Real          {'Kenka Banchou Otome: Girl Beats Boys': 'http...  \n",
       "A.C.G.T.        {'Freezing': 'https://myanimelist.net/anime/93...  \n",
       "Acca effe       {'Strike Witches: 501 Butai Hasshin Shimasu!':...  \n",
       "...                                                           ...  \n",
       "Wolfsbane       {'Peter Grill to Kenja no Jikan': 'https://mya...  \n",
       "Xebec           {'To LOVE-Ru': 'https://myanimelist.net/anime/...  \n",
       "Yumeta Company  {'Akkun to Kanojo': 'https://myanimelist.net/a...  \n",
       "Zero-G          {'Grand Blue': 'https://myanimelist.net/anime/...  \n",
       "Zexcs           {'Sukitte Ii na yo.': 'https://myanimelist.net...  \n",
       "\n",
       "[193 rows x 2 columns]"
      ]
     },
     "execution_count": 4,
     "metadata": {},
     "output_type": "execute_result"
    }
   ],
   "source": [
    "studio_df"
   ]
  },
  {
   "cell_type": "markdown",
   "metadata": {},
   "source": [
    "Match anime in the sales data to their MAL links. Use fuzzy matching because\n",
    "some names are slightly different. Some anime fail to be matched, and we drop them."
   ]
  },
  {
   "cell_type": "code",
   "execution_count": 34,
   "metadata": {
    "ExecuteTime": {
     "end_time": "2020-10-12T21:27:12.663309Z",
     "start_time": "2020-10-12T21:27:11.288464Z"
    }
   },
   "outputs": [],
   "source": [
    "def get_anime_link_helper(x):\n",
    "    \"\"\"\n",
    "    Helper for DataFrame.apply's function parameter below. Preferred to\n",
    "    lambda function because of clarity.\n",
    "    \"\"\"\n",
    "    studio_anime_info = studio_df.loc[x[\"studio\"]][\"anime_info\"]\n",
    "    return get_anime_link(x[\"title\"], studio_anime_info, \n",
    "                          fuzzy_match = True, ratio = 90)\n",
    "\n",
    "anime_sales_df[\"link\"] = anime_sales_df.apply(get_anime_link_helper, axis=1)\n",
    "anime_sales_df = anime_sales_df.dropna(subset=[\"link\"])"
   ]
  },
  {
   "cell_type": "code",
   "execution_count": 30,
   "metadata": {
    "ExecuteTime": {
     "end_time": "2020-10-12T21:21:27.216414Z",
     "start_time": "2020-10-12T21:21:25.969636Z"
    }
   },
   "outputs": [
    {
     "name": "stdout",
     "output_type": "stream",
     "text": [
      "Getting: .hack//SIGN\n",
      "Getting: .hack//Tasogare no Udewa Densetsu\n",
      "Exception in getting anime information. Returning incomplete dataframe early. Potentially a connection issue.\n"
     ]
    }
   ],
   "source": [
    "keep_cols = [\"episodes\", \"broadcast\", \"genres\", \"duration\", \"rating\",\\\n",
    "        \"score\", \"members\", \"favorites\"]\n",
    "\n",
    "mal_info_df = create_mal_info_df(anime_sales_df[[\"title\", \"link\"]], keep_cols)\n",
    "\n",
    "mal\n",
    "#get_anime_data(\"https://myanimelist.net/anime/37779/Yakusoku_no_Neverland\", keep_cols)"
   ]
  },
  {
   "cell_type": "code",
   "execution_count": 35,
   "metadata": {
    "ExecuteTime": {
     "end_time": "2020-10-12T21:28:15.165315Z",
     "start_time": "2020-10-12T21:28:15.144302Z"
    }
   },
   "outputs": [],
   "source": [
    "anime_sales_df.to_pickle(\"../data/anime_sales_df_linked.pickle\") \n",
    "mal_info_df.to_pickle(\"../data/mal_info_df.pickle\")"
   ]
  },
  {
   "cell_type": "code",
   "execution_count": 175,
   "metadata": {},
   "outputs": [],
   "source": [
    "#with open('../data/clean_anime_dicts.pickle', 'wb') as to_write:\n",
    "#    pickle.dump(anime_dicts, to_write)"
   ]
  }
 ],
 "metadata": {
  "kernelspec": {
   "display_name": "Python 3",
   "language": "python",
   "name": "python3"
  },
  "language_info": {
   "codemirror_mode": {
    "name": "ipython",
    "version": 3
   },
   "file_extension": ".py",
   "mimetype": "text/x-python",
   "name": "python",
   "nbconvert_exporter": "python",
   "pygments_lexer": "ipython3",
   "version": "3.8.5"
  },
  "toc": {
   "base_numbering": 1,
   "nav_menu": {},
   "number_sections": true,
   "sideBar": true,
   "skip_h1_title": false,
   "title_cell": "Table of Contents",
   "title_sidebar": "Contents",
   "toc_cell": false,
   "toc_position": {},
   "toc_section_display": true,
   "toc_window_display": false
  },
  "varInspector": {
   "cols": {
    "lenName": 16,
    "lenType": 16,
    "lenVar": 40
   },
   "kernels_config": {
    "python": {
     "delete_cmd_postfix": "",
     "delete_cmd_prefix": "del ",
     "library": "var_list.py",
     "varRefreshCmd": "print(var_dic_list())"
    },
    "r": {
     "delete_cmd_postfix": ") ",
     "delete_cmd_prefix": "rm(",
     "library": "var_list.r",
     "varRefreshCmd": "cat(var_dic_list()) "
    }
   },
   "types_to_exclude": [
    "module",
    "function",
    "builtin_function_or_method",
    "instance",
    "_Feature"
   ],
   "window_display": false
  }
 },
 "nbformat": 4,
 "nbformat_minor": 4
}
