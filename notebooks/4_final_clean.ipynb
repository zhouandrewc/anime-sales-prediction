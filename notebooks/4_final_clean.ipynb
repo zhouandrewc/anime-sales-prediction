{
 "cells": [
  {
   "cell_type": "code",
   "execution_count": 242,
   "metadata": {
    "ExecuteTime": {
     "end_time": "2020-10-11T17:21:44.849516Z",
     "start_time": "2020-10-11T17:21:44.847193Z"
    }
   },
   "outputs": [],
   "source": [
    "from bs4 import BeautifulSoup\n",
    "import pandas as pd\n",
    "import numpy as np\n",
    "import math"
   ]
  },
  {
   "cell_type": "code",
   "execution_count": 243,
   "metadata": {
    "ExecuteTime": {
     "end_time": "2020-10-11T17:21:45.173037Z",
     "start_time": "2020-10-11T17:21:45.159968Z"
    }
   },
   "outputs": [],
   "source": [
    "anime_dicts = pd.read_pickle(\"../data/clean_anime_dicts.pickle\")\n",
    "anime_sales_df = pd.read_pickle(\"../data/anime_sales_df_matched.pickle\")"
   ]
  },
  {
   "cell_type": "code",
   "execution_count": 244,
   "metadata": {
    "ExecuteTime": {
     "end_time": "2020-10-11T17:21:45.463257Z",
     "start_time": "2020-10-11T17:21:45.451059Z"
    }
   },
   "outputs": [],
   "source": [
    "addl_anime_info = pd.DataFrame.from_dict(anime_dicts, orient=\"index\")\n",
    "anime_sales_df = pd.concat([anime_sales_df.loc[addl_anime_info.index], addl_anime_info], axis=1)\n"
   ]
  },
  {
   "cell_type": "code",
   "execution_count": 245,
   "metadata": {
    "ExecuteTime": {
     "end_time": "2020-10-11T17:21:45.725770Z",
     "start_time": "2020-10-11T17:21:45.721560Z"
    }
   },
   "outputs": [],
   "source": [
    "anime_sales_df[\"sales\"] = anime_sales_df[\"gross_1st_rls\"].map(lambda x: x[1:].replace(\",\", \"\")).astype(float)"
   ]
  },
  {
   "cell_type": "code",
   "execution_count": 246,
   "metadata": {
    "ExecuteTime": {
     "end_time": "2020-10-11T17:21:46.025648Z",
     "start_time": "2020-10-11T17:21:46.016431Z"
    }
   },
   "outputs": [],
   "source": [
    "anime_sales_df = anime_sales_df[anime_sales_df[\"sales\"] != 0]\n",
    "anime_sales_df = anime_sales_df[anime_sales_df[\"rating\"] != \"None\"]\n",
    "anime_sales_df = anime_sales_df[anime_sales_df[\"duration\"] != \"Unknown\"]\n",
    "\n",
    "anime_sales_df = anime_sales_df.dropna(subset=[\"score\"])"
   ]
  },
  {
   "cell_type": "code",
   "execution_count": 247,
   "metadata": {
    "ExecuteTime": {
     "end_time": "2020-10-11T17:21:46.355361Z",
     "start_time": "2020-10-11T17:21:46.351962Z"
    }
   },
   "outputs": [],
   "source": [
    "anime_sales_df[\"broadcast\"] = anime_sales_df[\"broadcast\"].apply(lambda x: (None, None) if not x else x)"
   ]
  },
  {
   "cell_type": "code",
   "execution_count": 248,
   "metadata": {
    "ExecuteTime": {
     "end_time": "2020-10-11T17:21:46.702447Z",
     "start_time": "2020-10-11T17:21:46.690960Z"
    }
   },
   "outputs": [],
   "source": [
    "anime_sales_df[\"broadcast\"] = anime_sales_df[\"broadcast\"].apply(lambda x: (None, None) if not x else x)\n",
    "anime_sales_df[[\"day\", \"time\"]] = pd.DataFrame(anime_sales_df[\"broadcast\"].tolist(), index=anime_sales_df.index)\n",
    "anime_sales_df[\"hour\"] = anime_sales_df[\"time\"].apply(lambda x: int(x[:2]) if x else None)\n",
    "anime_sales_df[\"duration\"] = anime_sales_df[\"duration\"].astype(int)\n",
    "anime_sales_df[\"episode\"] = anime_sales_df[\"episode\"].astype(int)\n",
    "anime_sales_df[\"runtime\"] = anime_sales_df[\"episode\"]*anime_sales_df[\"duration\"]\n",
    "anime_sales_df[\"year\"] = anime_sales_df[\"year\"].astype(int)"
   ]
  },
  {
   "cell_type": "code",
   "execution_count": 249,
   "metadata": {
    "ExecuteTime": {
     "end_time": "2020-10-11T17:21:47.434972Z",
     "start_time": "2020-10-11T17:21:47.097180Z"
    }
   },
   "outputs": [],
   "source": [
    "genre_list = np.unique(anime_sales_df[\"genre\"].aggregate(sum))\n",
    "\n",
    "# series of series, each series has columns of genres and 1 if it's of that genre\n",
    "ser_ser = anime_sales_df[\"genre\"].map(lambda x: pd.Series(1, index=x))\n",
    "# turn series of series into a df with same indices as original df\n",
    "genre_df = ser_ser.apply(lambda x: x)\n",
    "genre_df = genre_df.fillna(0)\n",
    "\n",
    "anime_sales_df = pd.concat([anime_sales_df, genre_df], axis=1)\n"
   ]
  },
  {
   "cell_type": "code",
   "execution_count": 250,
   "metadata": {
    "ExecuteTime": {
     "end_time": "2020-10-11T17:21:47.693328Z",
     "start_time": "2020-10-11T17:21:47.687938Z"
    }
   },
   "outputs": [],
   "source": [
    "column_list = anime_sales_df.columns.tolist()\n",
    "column_list.remove(\"sales\")\n",
    "column_list.append(\"sales\")\n",
    "\n",
    "anime_sales_df = anime_sales_df[column_list]"
   ]
  },
  {
   "cell_type": "code",
   "execution_count": 251,
   "metadata": {
    "ExecuteTime": {
     "end_time": "2020-10-11T17:21:49.443379Z",
     "start_time": "2020-10-11T17:21:49.434819Z"
    }
   },
   "outputs": [],
   "source": [
    "anime_sales_df.to_pickle(\"../data/anime_sales_df_v3.pickle\")"
   ]
  },
  {
   "cell_type": "code",
   "execution_count": 252,
   "metadata": {
    "ExecuteTime": {
     "end_time": "2020-10-11T17:21:50.092262Z",
     "start_time": "2020-10-11T17:21:50.088372Z"
    }
   },
   "outputs": [
    {
     "data": {
      "text/plain": [
       "Index(['title', 'year', 'season_qtr', 'avg_sales', 're_rls', 'total',\n",
       "       'gross_1st_rls', 'studio', 'source', 'episode', 'broadcast', 'genre',\n",
       "       'duration', 'rating', 'score', 'member', 'favorite', 'day', 'time',\n",
       "       'hour', 'runtime', 'Game', 'Sci-Fi', 'Adventure', 'Mystery', 'Magic',\n",
       "       'Fantasy', 'Comedy', 'Shounen', 'Drama', 'Action', 'Mecha', 'Seinen',\n",
       "       'Demons', 'Josei', 'Military', 'Ecchi', 'Super Power', 'Supernatural',\n",
       "       'Music', 'Romance', 'School', 'Slice of Life', 'Parody', 'Shoujo',\n",
       "       'Historical', 'Harem', 'Police', 'Sports', 'Martial Arts',\n",
       "       'Psychological', 'Shoujo Ai', 'Space', 'Samurai', 'Horror', 'Thriller',\n",
       "       'Vampire', 'Shounen Ai', 'Dementia', 'Cars', 'sales'],\n",
       "      dtype='object')"
      ]
     },
     "execution_count": 252,
     "metadata": {},
     "output_type": "execute_result"
    }
   ],
   "source": [
    "anime_sales_df.columns"
   ]
  },
  {
   "cell_type": "code",
   "execution_count": null,
   "metadata": {},
   "outputs": [],
   "source": []
  }
 ],
 "metadata": {
  "kernelspec": {
   "display_name": "Python 3",
   "language": "python",
   "name": "python3"
  },
  "language_info": {
   "codemirror_mode": {
    "name": "ipython",
    "version": 3
   },
   "file_extension": ".py",
   "mimetype": "text/x-python",
   "name": "python",
   "nbconvert_exporter": "python",
   "pygments_lexer": "ipython3",
   "version": "3.8.5"
  },
  "toc": {
   "base_numbering": 1,
   "nav_menu": {},
   "number_sections": true,
   "sideBar": true,
   "skip_h1_title": false,
   "title_cell": "Table of Contents",
   "title_sidebar": "Contents",
   "toc_cell": false,
   "toc_position": {},
   "toc_section_display": true,
   "toc_window_display": false
  },
  "varInspector": {
   "cols": {
    "lenName": 16,
    "lenType": 16,
    "lenVar": 40
   },
   "kernels_config": {
    "python": {
     "delete_cmd_postfix": "",
     "delete_cmd_prefix": "del ",
     "library": "var_list.py",
     "varRefreshCmd": "print(var_dic_list())"
    },
    "r": {
     "delete_cmd_postfix": ") ",
     "delete_cmd_prefix": "rm(",
     "library": "var_list.r",
     "varRefreshCmd": "cat(var_dic_list()) "
    }
   },
   "types_to_exclude": [
    "module",
    "function",
    "builtin_function_or_method",
    "instance",
    "_Feature"
   ],
   "window_display": false
  }
 },
 "nbformat": 4,
 "nbformat_minor": 4
}
