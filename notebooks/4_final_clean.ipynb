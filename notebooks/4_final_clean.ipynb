{
 "cells": [
  {
   "cell_type": "markdown",
   "metadata": {},
   "source": [
    "# Step 4: Final Data Cleaning and Fixes\n",
    "\n",
    "**Metis Project 2, Andrew Zhou**"
   ]
  },
  {
   "cell_type": "markdown",
   "metadata": {},
   "source": [
    "We do some final cleaning passes and add some columns to the dataframe."
   ]
  },
  {
   "cell_type": "code",
   "execution_count": 31,
   "metadata": {
    "ExecuteTime": {
     "end_time": "2020-10-12T21:32:26.748471Z",
     "start_time": "2020-10-12T21:32:26.746558Z"
    }
   },
   "outputs": [],
   "source": [
    "from bs4 import BeautifulSoup\n",
    "import pandas as pd\n",
    "import numpy as np\n",
    "\n",
    "from scipy import stats"
   ]
  },
  {
   "cell_type": "code",
   "execution_count": 32,
   "metadata": {
    "ExecuteTime": {
     "end_time": "2020-10-12T21:32:27.315170Z",
     "start_time": "2020-10-12T21:32:27.309279Z"
    }
   },
   "outputs": [],
   "source": [
    "mal_info_df = pd.read_pickle(\"../data/mal_info_df.pickle\")\n",
    "anime_sales_df = pd.read_pickle(\"../data/anime_sales_df_linked.pickle\")"
   ]
  },
  {
   "cell_type": "markdown",
   "metadata": {
    "ExecuteTime": {
     "end_time": "2020-10-12T21:28:42.012412Z",
     "start_time": "2020-10-12T21:28:42.010018Z"
    }
   },
   "source": [
    "Add the MAL info."
   ]
  },
  {
   "cell_type": "code",
   "execution_count": 33,
   "metadata": {
    "ExecuteTime": {
     "end_time": "2020-10-12T21:32:28.235880Z",
     "start_time": "2020-10-12T21:32:28.231254Z"
    }
   },
   "outputs": [],
   "source": [
    "anime_sales_df = pd.concat([anime_sales_df.loc[anime_sales_df.index], mal_info_df], join=\"inner\", axis=1)"
   ]
  },
  {
   "cell_type": "code",
   "execution_count": 34,
   "metadata": {
    "ExecuteTime": {
     "end_time": "2020-10-12T21:32:28.728985Z",
     "start_time": "2020-10-12T21:32:28.725998Z"
    }
   },
   "outputs": [],
   "source": [
    "anime_sales_df[\"sales\"] = anime_sales_df[\"gross_1st_rls\"].map(lambda x: x[1:].replace(\",\", \"\")).astype(float)"
   ]
  },
  {
   "cell_type": "markdown",
   "metadata": {},
   "source": [
    "Drop certain unknown data."
   ]
  },
  {
   "cell_type": "code",
   "execution_count": 35,
   "metadata": {
    "ExecuteTime": {
     "end_time": "2020-10-12T21:32:29.563969Z",
     "start_time": "2020-10-12T21:32:29.558669Z"
    }
   },
   "outputs": [],
   "source": [
    "anime_sales_df = anime_sales_df[anime_sales_df[\"sales\"] != 0]\n",
    "anime_sales_df = anime_sales_df[anime_sales_df[\"rating\"] != \"None\"]\n",
    "anime_sales_df = anime_sales_df[anime_sales_df[\"duration\"] != \"Unknown\"]\n",
    "\n",
    "anime_sales_df = anime_sales_df.dropna(subset=[\"score\"])"
   ]
  },
  {
   "cell_type": "markdown",
   "metadata": {},
   "source": [
    "Modify and typecast some columns and make some new ones."
   ]
  },
  {
   "cell_type": "code",
   "execution_count": 48,
   "metadata": {
    "ExecuteTime": {
     "end_time": "2020-10-12T21:36:25.648016Z",
     "start_time": "2020-10-12T21:36:25.640323Z"
    }
   },
   "outputs": [],
   "source": [
    "cols_to_int = [\"duration\", \"episodes\", \"year\", \"members\"]\n",
    "anime_sales_df[cols_to_int] = anime_sales_df[cols_to_int].astype(int)\n",
    "\n",
    "anime_sales_df[\"broadcast\"] = anime_sales_df[\"broadcast\"].apply(lambda x: (None, None) if not x else x)\n",
    "anime_sales_df[[\"day\", \"time\"]] = pd.DataFrame(anime_sales_df[\"broadcast\"].tolist(), index=anime_sales_df.index)\n",
    "anime_sales_df[\"hour\"] = anime_sales_df[\"time\"].apply(lambda x: int(x[:2]) if x else None)\n",
    "anime_sales_df[\"runtime\"] = anime_sales_df[\"episodes\"]*anime_sales_df[\"duration\"]"
   ]
  },
  {
   "cell_type": "markdown",
   "metadata": {},
   "source": [
    "Make a binary variable (0 or 1) for each genre and add these variables to the \n",
    "dataframe."
   ]
  },
  {
   "cell_type": "code",
   "execution_count": 49,
   "metadata": {
    "ExecuteTime": {
     "end_time": "2020-10-12T21:36:26.410004Z",
     "start_time": "2020-10-12T21:36:26.401763Z"
    }
   },
   "outputs": [],
   "source": [
    "genre_list = np.unique(anime_sales_df[\"genres\"].aggregate(sum))\n",
    "# manually delete 2 columns with scarcely any values\n",
    "np.delete(genre_list, np.where((genre_list == \"Cars\")|(genre_list == \"Dementia\")))\n",
    "\n",
    "# series of series, each series has columns of genres and 1 if it's of that genre\n",
    "ser_ser = anime_sales_df[\"genres\"].map(lambda x: pd.Series(1, index=x))\n",
    "# turn series of series into a df with same indices as original df\n",
    "genre_df = ser_ser.apply(lambda x: x)\n",
    "genre_df = genre_df.fillna(0)\n",
    "\n",
    "anime_sales_df = pd.concat([anime_sales_df, genre_df], axis=1)\n"
   ]
  },
  {
   "cell_type": "markdown",
   "metadata": {},
   "source": [
    "Drop certain outliers."
   ]
  },
  {
   "cell_type": "code",
   "execution_count": 51,
   "metadata": {
    "ExecuteTime": {
     "end_time": "2020-10-12T21:36:30.660515Z",
     "start_time": "2020-10-12T21:36:30.655542Z"
    }
   },
   "outputs": [],
   "source": [
    "anime_sales_df = anime_sales_df[anime_sales_df[\"sales\"] < 500]\n",
    "anime_sales_df = anime_sales_df[(np.abs(stats.zscore(anime_sales_df[[\"score\", \"duration\", \"members\"]])) < 2).all(axis=1)]"
   ]
  },
  {
   "cell_type": "markdown",
   "metadata": {},
   "source": [
    "Put sales at the end of all the columns for neatness's sake."
   ]
  },
  {
   "cell_type": "code",
   "execution_count": 52,
   "metadata": {
    "ExecuteTime": {
     "end_time": "2020-10-12T21:36:35.022933Z",
     "start_time": "2020-10-12T21:36:35.019169Z"
    }
   },
   "outputs": [],
   "source": [
    "column_list = anime_sales_df.columns.tolist()\n",
    "column_list.remove(\"sales\")\n",
    "column_list.append(\"sales\")\n",
    "\n",
    "anime_sales_df = anime_sales_df[column_list]"
   ]
  },
  {
   "cell_type": "code",
   "execution_count": 53,
   "metadata": {
    "ExecuteTime": {
     "end_time": "2020-10-12T21:36:38.938877Z",
     "start_time": "2020-10-12T21:36:38.935884Z"
    }
   },
   "outputs": [
    {
     "data": {
      "text/plain": [
       "2"
      ]
     },
     "execution_count": 53,
     "metadata": {},
     "output_type": "execute_result"
    }
   ],
   "source": [
    "len(anime_sales_df)"
   ]
  },
  {
   "cell_type": "code",
   "execution_count": 54,
   "metadata": {
    "ExecuteTime": {
     "end_time": "2020-10-12T21:36:49.175237Z",
     "start_time": "2020-10-12T21:36:49.171951Z"
    }
   },
   "outputs": [],
   "source": [
    "anime_sales_df.to_pickle(\"../data/anime_sales_df_final.pickle\")"
   ]
  },
  {
   "cell_type": "code",
   "execution_count": 55,
   "metadata": {
    "ExecuteTime": {
     "end_time": "2020-10-12T21:36:51.583903Z",
     "start_time": "2020-10-12T21:36:51.580259Z"
    }
   },
   "outputs": [
    {
     "data": {
      "text/plain": [
       "Index(['title', 'year', 'season_qtr', 'avg_sales', 're_rls', 'total',\n",
       "       'gross_1st_rls', 'studio', 'source', 'link', 'episodes', 'broadcast',\n",
       "       'genres', 'duration', 'rating', 'score', 'members', 'favorites', 'day',\n",
       "       'time', 'hour', 'runtime', 'Game', 'Game', 'Sci-Fi', 'Sci-Fi',\n",
       "       'Adventure', 'Adventure', 'Mystery', 'Mystery', 'Magic', 'Magic',\n",
       "       'Fantasy', 'Fantasy', 'Comedy', 'Comedy', 'Shounen', 'Shounen', 'Game',\n",
       "       'Game', 'Sci-Fi', 'Sci-Fi', 'Adventure', 'Adventure', 'Mystery',\n",
       "       'Mystery', 'Magic', 'Magic', 'Fantasy', 'Fantasy', 'Comedy', 'Comedy',\n",
       "       'Shounen', 'Shounen', 'sales'],\n",
       "      dtype='object')"
      ]
     },
     "execution_count": 55,
     "metadata": {},
     "output_type": "execute_result"
    }
   ],
   "source": [
    "anime_sales_df.columns"
   ]
  }
 ],
 "metadata": {
  "kernelspec": {
   "display_name": "Python 3",
   "language": "python",
   "name": "python3"
  },
  "language_info": {
   "codemirror_mode": {
    "name": "ipython",
    "version": 3
   },
   "file_extension": ".py",
   "mimetype": "text/x-python",
   "name": "python",
   "nbconvert_exporter": "python",
   "pygments_lexer": "ipython3",
   "version": "3.8.5"
  },
  "toc": {
   "base_numbering": 1,
   "nav_menu": {},
   "number_sections": true,
   "sideBar": true,
   "skip_h1_title": false,
   "title_cell": "Table of Contents",
   "title_sidebar": "Contents",
   "toc_cell": false,
   "toc_position": {},
   "toc_section_display": true,
   "toc_window_display": false
  },
  "varInspector": {
   "cols": {
    "lenName": 16,
    "lenType": 16,
    "lenVar": 40
   },
   "kernels_config": {
    "python": {
     "delete_cmd_postfix": "",
     "delete_cmd_prefix": "del ",
     "library": "var_list.py",
     "varRefreshCmd": "print(var_dic_list())"
    },
    "r": {
     "delete_cmd_postfix": ") ",
     "delete_cmd_prefix": "rm(",
     "library": "var_list.r",
     "varRefreshCmd": "cat(var_dic_list()) "
    }
   },
   "types_to_exclude": [
    "module",
    "function",
    "builtin_function_or_method",
    "instance",
    "_Feature"
   ],
   "window_display": false
  }
 },
 "nbformat": 4,
 "nbformat_minor": 4
}
