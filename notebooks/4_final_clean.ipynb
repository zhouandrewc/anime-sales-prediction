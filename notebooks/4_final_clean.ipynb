{
 "cells": [
  {
   "cell_type": "markdown",
   "metadata": {},
   "source": [
    "# Step 4: Final Data Cleaning and Fixes\n",
    "\n",
    "**Metis Project 2, Andrew Zhou**"
   ]
  },
  {
   "cell_type": "markdown",
   "metadata": {},
   "source": [
    "We do some final cleaning passes and add some columns to the dataframe."
   ]
  },
  {
   "cell_type": "code",
   "execution_count": 255,
   "metadata": {
    "ExecuteTime": {
     "end_time": "2020-10-13T20:15:05.513466Z",
     "start_time": "2020-10-13T20:15:05.511126Z"
    }
   },
   "outputs": [],
   "source": [
    "from bs4 import BeautifulSoup\n",
    "import pandas as pd\n",
    "import numpy as np\n",
    "\n",
    "from scipy import stats"
   ]
  },
  {
   "cell_type": "code",
   "execution_count": 256,
   "metadata": {
    "ExecuteTime": {
     "end_time": "2020-10-13T20:15:06.016409Z",
     "start_time": "2020-10-13T20:15:06.005984Z"
    }
   },
   "outputs": [],
   "source": [
    "mal_info_df = pd.read_pickle(\"../data/mal_info_df.pickle\")\n",
    "anime_sales_df = pd.read_pickle(\"../data/anime_sales_df_linked.pickle\")"
   ]
  },
  {
   "cell_type": "markdown",
   "metadata": {
    "ExecuteTime": {
     "end_time": "2020-10-12T21:28:42.012412Z",
     "start_time": "2020-10-12T21:28:42.010018Z"
    }
   },
   "source": [
    "Add the MAL info."
   ]
  },
  {
   "cell_type": "code",
   "execution_count": 257,
   "metadata": {
    "ExecuteTime": {
     "end_time": "2020-10-13T20:15:06.688039Z",
     "start_time": "2020-10-13T20:15:06.681827Z"
    }
   },
   "outputs": [],
   "source": [
    "anime_sales_df = pd.concat([anime_sales_df.loc[anime_sales_df.index], mal_info_df], join=\"inner\", axis=1)"
   ]
  },
  {
   "cell_type": "markdown",
   "metadata": {},
   "source": [
    "Parse and typecast our sales data, and make a new column."
   ]
  },
  {
   "cell_type": "code",
   "execution_count": 258,
   "metadata": {
    "ExecuteTime": {
     "end_time": "2020-10-13T20:15:07.382524Z",
     "start_time": "2020-10-13T20:15:07.378361Z"
    }
   },
   "outputs": [],
   "source": [
    "anime_sales_df[\"sales\"] = anime_sales_df[\"gross_1st_rls\"].map(lambda x: x[1:].replace(\",\", \"\")).astype(float)"
   ]
  },
  {
   "cell_type": "markdown",
   "metadata": {},
   "source": [
    "Drop certain unknown data."
   ]
  },
  {
   "cell_type": "code",
   "execution_count": 259,
   "metadata": {
    "ExecuteTime": {
     "end_time": "2020-10-13T20:15:07.883569Z",
     "start_time": "2020-10-13T20:15:07.873624Z"
    }
   },
   "outputs": [],
   "source": [
    "anime_sales_df = anime_sales_df[anime_sales_df[\"sales\"] != 0]\n",
    "anime_sales_df = anime_sales_df[anime_sales_df[\"rating\"] != \"None\"]\n",
    "anime_sales_df = anime_sales_df[anime_sales_df[\"duration\"] != \"Unknown\"]\n",
    "anime_sales_df = anime_sales_df.dropna(subset=[\"score\"])"
   ]
  },
  {
   "cell_type": "markdown",
   "metadata": {},
   "source": [
    "Modify and typecast some columns and make some new ones."
   ]
  },
  {
   "cell_type": "code",
   "execution_count": 260,
   "metadata": {
    "ExecuteTime": {
     "end_time": "2020-10-13T20:15:08.362151Z",
     "start_time": "2020-10-13T20:15:08.346202Z"
    }
   },
   "outputs": [],
   "source": [
    "cols_to_int = [\"duration\", \"episodes\", \"year\", \"members\"]\n",
    "anime_sales_df[cols_to_int] = anime_sales_df[cols_to_int].astype(int)\n",
    "anime_sales_df[\"broadcast\"] = anime_sales_df[\"broadcast\"].apply(lambda x: (None, None) if pd.isnull(x) else x)\n",
    "anime_sales_df[[\"day\", \"time\"]] = pd.DataFrame(anime_sales_df[\"broadcast\"].tolist(), index=anime_sales_df.index)\n",
    "anime_sales_df[\"hour\"] = anime_sales_df[\"time\"].apply(lambda x: int(x[:2]) if x else None)\n",
    "anime_sales_df[\"runtime\"] = anime_sales_df[\"episodes\"]*anime_sales_df[\"duration\"]\n",
    "anime_sales_df[\"score\"] = anime_sales_df[\"score\"].astype(float)\n",
    "anime_sales_df[\"favorites\"] = anime_sales_df[\"favorites\"].astype(int)"
   ]
  },
  {
   "cell_type": "markdown",
   "metadata": {},
   "source": [
    "Make a binary variable (0 or 1) for each genre and add these variables to the \n",
    "dataframe."
   ]
  },
  {
   "cell_type": "code",
   "execution_count": 269,
   "metadata": {
    "ExecuteTime": {
     "end_time": "2020-10-13T20:15:35.874076Z",
     "start_time": "2020-10-13T20:15:35.594387Z"
    }
   },
   "outputs": [],
   "source": [
    "# series of series, each series has columns of genres and 1 if it's of that genre\n",
    "ser_ser = anime_sales_df[\"genres\"].map(lambda x: pd.Series(1, index=x))\n",
    "# turn series of series into a df with same indices as original df\n",
    "genre_df = ser_ser.apply(lambda x: x)\n",
    "genre_df = genre_df.fillna(0)\n",
    "\n",
    "anime_sales_df = pd.concat([anime_sales_df, genre_df], axis=1)\n"
   ]
  },
  {
   "cell_type": "markdown",
   "metadata": {},
   "source": [
    "Drop certain outliers. Decided based on exploring with the data and noting that the outliers cause significant instability in training and cross-validation scores across different train-val and k-fold CV splits."
   ]
  },
  {
   "cell_type": "code",
   "execution_count": 262,
   "metadata": {
    "ExecuteTime": {
     "end_time": "2020-10-13T20:15:11.975495Z",
     "start_time": "2020-10-13T20:15:11.968513Z"
    }
   },
   "outputs": [],
   "source": [
    "anime_sales_df = anime_sales_df[anime_sales_df[\"sales\"] < 500]\n",
    "anime_sales_df = anime_sales_df[(np.abs(stats.zscore(anime_sales_df[[\"score\", \"duration\", \"members\", \"favorites\"]])) < 2).all(axis=1)]"
   ]
  },
  {
   "cell_type": "markdown",
   "metadata": {},
   "source": [
    "Put sales at the end of all the columns for neatness's sake; also remove some unnecessary columns."
   ]
  },
  {
   "cell_type": "code",
   "execution_count": 263,
   "metadata": {
    "ExecuteTime": {
     "end_time": "2020-10-13T20:15:12.895647Z",
     "start_time": "2020-10-13T20:15:12.890990Z"
    }
   },
   "outputs": [],
   "source": [
    "column_list = anime_sales_df.columns.tolist()\n",
    "column_list.remove(\"sales\")\n",
    "column_list.append(\"sales\")\n",
    "\n",
    "column_list = list(filter(lambda col: col not in [\"avg_sales\", \"re_rls\", \"total\", \"gross_1st_rls\", \"Cars\", \"Dementia\"], column_list))\n",
    "\n",
    "anime_sales_df = anime_sales_df[column_list]"
   ]
  },
  {
   "cell_type": "markdown",
   "metadata": {},
   "source": [
    "Remove some uncommon values for sources."
   ]
  },
  {
   "cell_type": "code",
   "execution_count": 264,
   "metadata": {
    "ExecuteTime": {
     "end_time": "2020-10-13T20:15:13.659930Z",
     "start_time": "2020-10-13T20:15:13.654395Z"
    }
   },
   "outputs": [
    {
     "data": {
      "text/plain": [
       "source\n",
       "manga                         593\n",
       "original                      262\n",
       "novel                         254\n",
       "visual novel                  105\n",
       "game                           72\n",
       "historical work                 4\n",
       "pachinko                        3\n",
       "other (visual combat book)      3\n",
       "other (songs)                   3\n",
       "other (figures)                 2\n",
       "stage play                      1\n",
       "spin-off (live action)          1\n",
       "drama CD                        1\n",
       "doujinshi                       1\n",
       "comic book                      1\n",
       "card game                       1\n",
       "Name: title, dtype: int64"
      ]
     },
     "execution_count": 264,
     "metadata": {},
     "output_type": "execute_result"
    }
   ],
   "source": [
    "sources_by_freq = anime_sales_df.groupby(\"source\")[\"title\"].count().sort_values(ascending=False)\n",
    "sources_by_freq"
   ]
  },
  {
   "cell_type": "code",
   "execution_count": 265,
   "metadata": {
    "ExecuteTime": {
     "end_time": "2020-10-13T20:15:14.539790Z",
     "start_time": "2020-10-13T20:15:14.535488Z"
    }
   },
   "outputs": [],
   "source": [
    "common_sources = sources_by_freq.sort_values(ascending=False).head(5).index.tolist()\n",
    "anime_sales_df[\"source\"] = anime_sales_df[\"source\"].apply(lambda x: x if x in common_sources else None)"
   ]
  },
  {
   "cell_type": "code",
   "execution_count": 266,
   "metadata": {
    "ExecuteTime": {
     "end_time": "2020-10-13T20:15:15.774834Z",
     "start_time": "2020-10-13T20:15:15.751402Z"
    }
   },
   "outputs": [
    {
     "data": {
      "text/html": [
       "<div>\n",
       "<style scoped>\n",
       "    .dataframe tbody tr th:only-of-type {\n",
       "        vertical-align: middle;\n",
       "    }\n",
       "\n",
       "    .dataframe tbody tr th {\n",
       "        vertical-align: top;\n",
       "    }\n",
       "\n",
       "    .dataframe thead th {\n",
       "        text-align: right;\n",
       "    }\n",
       "</style>\n",
       "<table border=\"1\" class=\"dataframe\">\n",
       "  <thead>\n",
       "    <tr style=\"text-align: right;\">\n",
       "      <th></th>\n",
       "      <th>title</th>\n",
       "      <th>year</th>\n",
       "      <th>season_qtr</th>\n",
       "      <th>studio</th>\n",
       "      <th>source</th>\n",
       "      <th>link</th>\n",
       "      <th>episodes</th>\n",
       "      <th>broadcast</th>\n",
       "      <th>genres</th>\n",
       "      <th>duration</th>\n",
       "      <th>...</th>\n",
       "      <th>Martial Arts</th>\n",
       "      <th>Psychological</th>\n",
       "      <th>Shoujo Ai</th>\n",
       "      <th>Space</th>\n",
       "      <th>Samurai</th>\n",
       "      <th>Horror</th>\n",
       "      <th>Thriller</th>\n",
       "      <th>Vampire</th>\n",
       "      <th>Shounen Ai</th>\n",
       "      <th>sales</th>\n",
       "    </tr>\n",
       "  </thead>\n",
       "  <tbody>\n",
       "    <tr>\n",
       "      <th>.hack//SIGN</th>\n",
       "      <td>.hack//SIGN</td>\n",
       "      <td>2002</td>\n",
       "      <td>Spring</td>\n",
       "      <td>Bee Train</td>\n",
       "      <td>game</td>\n",
       "      <td>https://myanimelist.net/anime/48/hack__Sign</td>\n",
       "      <td>26</td>\n",
       "      <td>(None, None)</td>\n",
       "      <td>[Game, Sci-Fi, Adventure, Mystery, Magic, Fant...</td>\n",
       "      <td>24</td>\n",
       "      <td>...</td>\n",
       "      <td>0.0</td>\n",
       "      <td>0.0</td>\n",
       "      <td>0.0</td>\n",
       "      <td>0.0</td>\n",
       "      <td>0.0</td>\n",
       "      <td>0.0</td>\n",
       "      <td>0.0</td>\n",
       "      <td>0.0</td>\n",
       "      <td>0.0</td>\n",
       "      <td>362.2</td>\n",
       "    </tr>\n",
       "    <tr>\n",
       "      <th>.hack//Tasogare no Udewa Densetsu</th>\n",
       "      <td>.hack//Tasogare no Udewa Densetsu</td>\n",
       "      <td>2003</td>\n",
       "      <td>Winter</td>\n",
       "      <td>Bee Train</td>\n",
       "      <td>game</td>\n",
       "      <td>https://myanimelist.net/anime/298/hack__Tasoga...</td>\n",
       "      <td>12</td>\n",
       "      <td>(None, None)</td>\n",
       "      <td>[Adventure, Comedy, Fantasy, Game, Sci-Fi, Sho...</td>\n",
       "      <td>23</td>\n",
       "      <td>...</td>\n",
       "      <td>0.0</td>\n",
       "      <td>0.0</td>\n",
       "      <td>0.0</td>\n",
       "      <td>0.0</td>\n",
       "      <td>0.0</td>\n",
       "      <td>0.0</td>\n",
       "      <td>0.0</td>\n",
       "      <td>0.0</td>\n",
       "      <td>0.0</td>\n",
       "      <td>102.8</td>\n",
       "    </tr>\n",
       "    <tr>\n",
       "      <th>.hack//Roots</th>\n",
       "      <td>.hack//Roots</td>\n",
       "      <td>2006</td>\n",
       "      <td>Spring</td>\n",
       "      <td>Bee Train</td>\n",
       "      <td>game</td>\n",
       "      <td>https://myanimelist.net/anime/873/hack__Roots</td>\n",
       "      <td>26</td>\n",
       "      <td>(None, None)</td>\n",
       "      <td>[Adventure, Drama, Fantasy, Game, Sci-Fi]</td>\n",
       "      <td>24</td>\n",
       "      <td>...</td>\n",
       "      <td>0.0</td>\n",
       "      <td>0.0</td>\n",
       "      <td>0.0</td>\n",
       "      <td>0.0</td>\n",
       "      <td>0.0</td>\n",
       "      <td>0.0</td>\n",
       "      <td>0.0</td>\n",
       "      <td>0.0</td>\n",
       "      <td>0.0</td>\n",
       "      <td>113.0</td>\n",
       "    </tr>\n",
       "    <tr>\n",
       "      <th>009-1</th>\n",
       "      <td>009-1</td>\n",
       "      <td>2006</td>\n",
       "      <td>Fall</td>\n",
       "      <td>Ishimori Entertainment</td>\n",
       "      <td>manga</td>\n",
       "      <td>https://myanimelist.net/anime/1583/009-1</td>\n",
       "      <td>12</td>\n",
       "      <td>(Friday, 01:25)</td>\n",
       "      <td>[Action, Mecha, Sci-Fi, Seinen]</td>\n",
       "      <td>25</td>\n",
       "      <td>...</td>\n",
       "      <td>0.0</td>\n",
       "      <td>0.0</td>\n",
       "      <td>0.0</td>\n",
       "      <td>0.0</td>\n",
       "      <td>0.0</td>\n",
       "      <td>0.0</td>\n",
       "      <td>0.0</td>\n",
       "      <td>0.0</td>\n",
       "      <td>0.0</td>\n",
       "      <td>46.4</td>\n",
       "    </tr>\n",
       "    <tr>\n",
       "      <th>07-Ghost</th>\n",
       "      <td>07-Ghost</td>\n",
       "      <td>2009</td>\n",
       "      <td>Spring</td>\n",
       "      <td>Studio Deen</td>\n",
       "      <td>manga</td>\n",
       "      <td>https://myanimelist.net/anime/5525/07-Ghost</td>\n",
       "      <td>25</td>\n",
       "      <td>(None, None)</td>\n",
       "      <td>[Action, Demons, Fantasy, Josei, Magic, Military]</td>\n",
       "      <td>23</td>\n",
       "      <td>...</td>\n",
       "      <td>0.0</td>\n",
       "      <td>0.0</td>\n",
       "      <td>0.0</td>\n",
       "      <td>0.0</td>\n",
       "      <td>0.0</td>\n",
       "      <td>0.0</td>\n",
       "      <td>0.0</td>\n",
       "      <td>0.0</td>\n",
       "      <td>0.0</td>\n",
       "      <td>197.2</td>\n",
       "    </tr>\n",
       "  </tbody>\n",
       "</table>\n",
       "<p>5 rows × 56 columns</p>\n",
       "</div>"
      ],
      "text/plain": [
       "                                                               title  year  \\\n",
       ".hack//SIGN                                              .hack//SIGN  2002   \n",
       ".hack//Tasogare no Udewa Densetsu  .hack//Tasogare no Udewa Densetsu  2003   \n",
       ".hack//Roots                                            .hack//Roots  2006   \n",
       "009-1                                                          009-1  2006   \n",
       "07-Ghost                                                    07-Ghost  2009   \n",
       "\n",
       "                                  season_qtr                  studio source  \\\n",
       ".hack//SIGN                           Spring               Bee Train   game   \n",
       ".hack//Tasogare no Udewa Densetsu     Winter               Bee Train   game   \n",
       ".hack//Roots                          Spring               Bee Train   game   \n",
       "009-1                                   Fall  Ishimori Entertainment  manga   \n",
       "07-Ghost                              Spring             Studio Deen  manga   \n",
       "\n",
       "                                                                                link  \\\n",
       ".hack//SIGN                              https://myanimelist.net/anime/48/hack__Sign   \n",
       ".hack//Tasogare no Udewa Densetsu  https://myanimelist.net/anime/298/hack__Tasoga...   \n",
       ".hack//Roots                           https://myanimelist.net/anime/873/hack__Roots   \n",
       "009-1                                       https://myanimelist.net/anime/1583/009-1   \n",
       "07-Ghost                                 https://myanimelist.net/anime/5525/07-Ghost   \n",
       "\n",
       "                                   episodes        broadcast  \\\n",
       ".hack//SIGN                              26     (None, None)   \n",
       ".hack//Tasogare no Udewa Densetsu        12     (None, None)   \n",
       ".hack//Roots                             26     (None, None)   \n",
       "009-1                                    12  (Friday, 01:25)   \n",
       "07-Ghost                                 25     (None, None)   \n",
       "\n",
       "                                                                              genres  \\\n",
       ".hack//SIGN                        [Game, Sci-Fi, Adventure, Mystery, Magic, Fant...   \n",
       ".hack//Tasogare no Udewa Densetsu  [Adventure, Comedy, Fantasy, Game, Sci-Fi, Sho...   \n",
       ".hack//Roots                               [Adventure, Drama, Fantasy, Game, Sci-Fi]   \n",
       "009-1                                                [Action, Mecha, Sci-Fi, Seinen]   \n",
       "07-Ghost                           [Action, Demons, Fantasy, Josei, Magic, Military]   \n",
       "\n",
       "                                   duration  ... Martial Arts  Psychological  \\\n",
       ".hack//SIGN                              24  ...          0.0            0.0   \n",
       ".hack//Tasogare no Udewa Densetsu        23  ...          0.0            0.0   \n",
       ".hack//Roots                             24  ...          0.0            0.0   \n",
       "009-1                                    25  ...          0.0            0.0   \n",
       "07-Ghost                                 23  ...          0.0            0.0   \n",
       "\n",
       "                                   Shoujo Ai  Space Samurai Horror  Thriller  \\\n",
       ".hack//SIGN                              0.0    0.0     0.0    0.0       0.0   \n",
       ".hack//Tasogare no Udewa Densetsu        0.0    0.0     0.0    0.0       0.0   \n",
       ".hack//Roots                             0.0    0.0     0.0    0.0       0.0   \n",
       "009-1                                    0.0    0.0     0.0    0.0       0.0   \n",
       "07-Ghost                                 0.0    0.0     0.0    0.0       0.0   \n",
       "\n",
       "                                   Vampire  Shounen Ai  sales  \n",
       ".hack//SIGN                            0.0         0.0  362.2  \n",
       ".hack//Tasogare no Udewa Densetsu      0.0         0.0  102.8  \n",
       ".hack//Roots                           0.0         0.0  113.0  \n",
       "009-1                                  0.0         0.0   46.4  \n",
       "07-Ghost                               0.0         0.0  197.2  \n",
       "\n",
       "[5 rows x 56 columns]"
      ]
     },
     "execution_count": 266,
     "metadata": {},
     "output_type": "execute_result"
    }
   ],
   "source": [
    "anime_sales_df.head()"
   ]
  },
  {
   "cell_type": "code",
   "execution_count": 267,
   "metadata": {
    "ExecuteTime": {
     "end_time": "2020-10-13T20:15:16.494081Z",
     "start_time": "2020-10-13T20:15:16.490489Z"
    }
   },
   "outputs": [
    {
     "data": {
      "text/plain": [
       "Index(['title', 'year', 'season_qtr', 'studio', 'source', 'link', 'episodes',\n",
       "       'broadcast', 'genres', 'duration', 'rating', 'score', 'members',\n",
       "       'favorites', 'day', 'time', 'hour', 'runtime', 'Game', 'Sci-Fi',\n",
       "       'Adventure', 'Mystery', 'Magic', 'Fantasy', 'Comedy', 'Shounen',\n",
       "       'Drama', 'Action', 'Mecha', 'Seinen', 'Demons', 'Josei', 'Military',\n",
       "       'Ecchi', 'Super Power', 'Supernatural', 'Music', 'Romance', 'School',\n",
       "       'Slice of Life', 'Parody', 'Shoujo', 'Historical', 'Harem', 'Police',\n",
       "       'Sports', 'Martial Arts', 'Psychological', 'Shoujo Ai', 'Space',\n",
       "       'Samurai', 'Horror', 'Thriller', 'Vampire', 'Shounen Ai', 'sales'],\n",
       "      dtype='object')"
      ]
     },
     "execution_count": 267,
     "metadata": {},
     "output_type": "execute_result"
    }
   ],
   "source": [
    "anime_sales_df.columns"
   ]
  },
  {
   "cell_type": "code",
   "execution_count": 268,
   "metadata": {
    "ExecuteTime": {
     "end_time": "2020-10-13T20:15:16.901210Z",
     "start_time": "2020-10-13T20:15:16.895256Z"
    }
   },
   "outputs": [],
   "source": [
    "anime_sales_df.to_pickle(\"../data/anime_sales_df_final.pickle\")"
   ]
  },
  {
   "cell_type": "code",
   "execution_count": null,
   "metadata": {},
   "outputs": [],
   "source": []
  }
 ],
 "metadata": {
  "kernelspec": {
   "display_name": "Python 3",
   "language": "python",
   "name": "python3"
  },
  "language_info": {
   "codemirror_mode": {
    "name": "ipython",
    "version": 3
   },
   "file_extension": ".py",
   "mimetype": "text/x-python",
   "name": "python",
   "nbconvert_exporter": "python",
   "pygments_lexer": "ipython3",
   "version": "3.8.5"
  },
  "toc": {
   "base_numbering": 1,
   "nav_menu": {},
   "number_sections": true,
   "sideBar": true,
   "skip_h1_title": false,
   "title_cell": "Table of Contents",
   "title_sidebar": "Contents",
   "toc_cell": false,
   "toc_position": {},
   "toc_section_display": true,
   "toc_window_display": false
  },
  "varInspector": {
   "cols": {
    "lenName": 16,
    "lenType": 16,
    "lenVar": 40
   },
   "kernels_config": {
    "python": {
     "delete_cmd_postfix": "",
     "delete_cmd_prefix": "del ",
     "library": "var_list.py",
     "varRefreshCmd": "print(var_dic_list())"
    },
    "r": {
     "delete_cmd_postfix": ") ",
     "delete_cmd_prefix": "rm(",
     "library": "var_list.r",
     "varRefreshCmd": "cat(var_dic_list()) "
    }
   },
   "types_to_exclude": [
    "module",
    "function",
    "builtin_function_or_method",
    "instance",
    "_Feature"
   ],
   "window_display": false
  }
 },
 "nbformat": 4,
 "nbformat_minor": 4
}
