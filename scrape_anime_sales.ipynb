{
 "cells": [
  {
   "cell_type": "code",
   "execution_count": 1,
   "metadata": {
    "ExecuteTime": {
     "end_time": "2020-10-02T06:19:47.865275Z",
     "start_time": "2020-10-02T06:19:47.604338Z"
    }
   },
   "outputs": [],
   "source": [
    "from bs4 import BeautifulSoup\n",
    "import pandas as pd\n",
    "import requests\n",
    "import re\n",
    "import pickle\n",
    "import time\n",
    "\n",
    "\n",
    "\n",
    "# https://stackoverflow.com/questions/434287/what-is-the-most-pythonic-way-to-iterate-over-a-list-in-chunks\n",
    "# https://docs.python.org/3/library/itertools.html#itertools-recipes\n",
    "\n",
    "# Dog Days\" is not being noted properly bc of the \"\n",
    "# Look for other series with weird characters\n",
    "# Potentially use japanese names?\n",
    "\n",
    "anime_df = pd.DataFrame(columns=[\"name\", \"sales\"])\n",
    "\n",
    "# see how this person does it:\n",
    "# https://towardsdatascience.com/web-scraping-html-tables-with-python-c9baba21059\n",
    "# https://stackoverflow.com/questions/18966368/python-beautifulsoup-scrape-tables\n",
    "# https://www.pluralsight.com/guides/extracting-data-html-beautifulsoup"
   ]
  },
  {
   "cell_type": "markdown",
   "metadata": {},
   "source": [
    "## Parse Sales"
   ]
  },
  {
   "cell_type": "code",
   "execution_count": 73,
   "metadata": {
    "ExecuteTime": {
     "end_time": "2020-10-02T06:17:12.083713Z",
     "start_time": "2020-10-02T06:17:06.265339Z"
    }
   },
   "outputs": [
    {
     "name": "stdout",
     "output_type": "stream",
     "text": [
      "(None, '2015', 'Winter', '5,329', '1,789', '7,118', '¥217.0', 'Seven Arcs', 'original')\n",
      "('A Channel+ smile', '2011', 'Spring', '5,708', '¥44.5', 'Studio Gokumi', 'manga', 'ACCA: 13-ku Kansatsu-ka – Regards', '2020')\n"
     ]
    }
   ],
   "source": [
    "# Parse sales data from https://www.someanithing.com/series-data-quick-view\n",
    "\n",
    "url = \"https://www.someanithing.com/series-data-quick-view\"\n",
    "response = requests.get(url)\n",
    "page = response.text\n",
    "\n",
    "soup = BeautifulSoup(page, \"lxml\")\n",
    "\n",
    "\n",
    "elems = soup.find_all(lambda tag: tag.name == \"td\" and tag.parent.name == \"tr\")\n",
    "elems = map(lambda x: x.string, elems)\n",
    "\n",
    "it = iter(elems)\n",
    "sales_data = list(zip(*[it]*9))\n",
    "\n",
    "cols = [\"title\", \"year\", \"season_quarter\", \"avg_sales\", \"re_rls\", \"total\", \"gross_1st_rls\", \"studio\", \"source\"]\n",
    "\n",
    "anime_df = pd.DataFrame(columns=cols)\n",
    "\n",
    "\n",
    "sources = [\"manga\", \"original\", \"visual novel\", \"novel\", \"game\", \"drama CD\", \"other (songs)\", \"other (visual combat book)\", \"other (figures)\", \"other (original character)\", \"historical work\", \"tabletop rpg\", \"live action\", \"spin-off (live action)\", \"news app\", \"doujinshi\", \"pachinko\", \"stage play\", \"company mascot\", \"radio show\", \"other (study guides)\", \"comic book\", \"card game\"]\n",
    "\n",
    "# starts breaking after OVA data - can perhaps ignore\n",
    "\n",
    "for anime_data in sales_data:\n",
    "    anime_series = pd.Series(anime_data, name=anime_data[0], index=cols)\n",
    "    \n",
    "    if None in anime_data:\n",
    "        print(anime_data)\n",
    "    \n",
    "    if anime_data[-1] not in sources:\n",
    "        print(anime_data)\n",
    "        break\n",
    "    \n",
    "    if anime_data[0]:\n",
    "        anime_df = anime_df.append(anime_series)\n",
    "\n",
    "\n",
    "#anime_df\n"
   ]
  },
  {
   "cell_type": "code",
   "execution_count": 75,
   "metadata": {
    "ExecuteTime": {
     "end_time": "2020-10-02T06:17:32.596409Z",
     "start_time": "2020-10-02T06:17:32.588208Z"
    }
   },
   "outputs": [
    {
     "data": {
      "text/plain": [
       "2018    170\n",
       "2016    162\n",
       "2017    148\n",
       "2015    148\n",
       "2014    147\n",
       "2019    126\n",
       "2013    125\n",
       "2006    117\n",
       "2007    106\n",
       "2012    105\n",
       "2008    101\n",
       "2009     91\n",
       "2011     91\n",
       "2004     84\n",
       "2005     81\n",
       "2010     75\n",
       "2003     56\n",
       "2020     53\n",
       "2002     34\n",
       "2001     24\n",
       "2000     14\n",
       "Name: year, dtype: int64"
      ]
     },
     "execution_count": 75,
     "metadata": {},
     "output_type": "execute_result"
    }
   ],
   "source": [
    "anime_df.source.value_counts()\n",
    "anime_df.season_quarter.value_counts()\n",
    "anime_df.year.value_counts() # looks like earlier year data are scarce"
   ]
  },
  {
   "cell_type": "code",
   "execution_count": 47,
   "metadata": {
    "ExecuteTime": {
     "end_time": "2020-10-02T06:01:17.482949Z",
     "start_time": "2020-10-02T06:01:17.475997Z"
    }
   },
   "outputs": [
    {
     "ename": "TypeError",
     "evalue": "__init__() got an unexpected keyword argument 'axis'",
     "output_type": "error",
     "traceback": [
      "\u001b[0;31m---------------------------------------------------------------------------\u001b[0m",
      "\u001b[0;31mTypeError\u001b[0m                                 Traceback (most recent call last)",
      "\u001b[0;32m<ipython-input-47-e7d222d34b9c>\u001b[0m in \u001b[0;36m<module>\u001b[0;34m\u001b[0m\n\u001b[1;32m      1\u001b[0m \u001b[0ma\u001b[0m \u001b[0;34m=\u001b[0m \u001b[0;34m(\u001b[0m\u001b[0;34m'.hack//SIGN'\u001b[0m\u001b[0;34m,\u001b[0m \u001b[0;34m'2002'\u001b[0m\u001b[0;34m,\u001b[0m \u001b[0;34m'Spring'\u001b[0m\u001b[0;34m,\u001b[0m \u001b[0;34m'6,032'\u001b[0m\u001b[0;34m,\u001b[0m \u001b[0;34m'0'\u001b[0m\u001b[0;34m,\u001b[0m \u001b[0;34m'6,032'\u001b[0m\u001b[0;34m,\u001b[0m \u001b[0;34m'¥362.2'\u001b[0m\u001b[0;34m,\u001b[0m \u001b[0;34m'Bee Train'\u001b[0m\u001b[0;34m,\u001b[0m \u001b[0;34m'game'\u001b[0m\u001b[0;34m)\u001b[0m\u001b[0;34m\u001b[0m\u001b[0;34m\u001b[0m\u001b[0m\n\u001b[0;32m----> 2\u001b[0;31m \u001b[0mpd\u001b[0m\u001b[0;34m.\u001b[0m\u001b[0mSeries\u001b[0m\u001b[0;34m(\u001b[0m\u001b[0ma\u001b[0m\u001b[0;34m,\u001b[0m \u001b[0maxis\u001b[0m\u001b[0;34m=\u001b[0m\u001b[0;36m1\u001b[0m\u001b[0;34m)\u001b[0m\u001b[0;34m\u001b[0m\u001b[0;34m\u001b[0m\u001b[0m\n\u001b[0m",
      "\u001b[0;31mTypeError\u001b[0m: __init__() got an unexpected keyword argument 'axis'"
     ]
    }
   ],
   "source": [
    "a = ('.hack//SIGN', '2002', 'Spring', '6,032', '0', '6,032', '¥362.2', 'Bee Train', 'game')\n",
    "pd.Series(a, =1)"
   ]
  },
  {
   "cell_type": "code",
   "execution_count": null,
   "metadata": {},
   "outputs": [],
   "source": [
    "# Way to clean up data sources that use different chars for oo/ou\n",
    "# Clean up names to associate anime names on one site w/ anime names on others (where i'll have to scrape for more info)"
   ]
  },
  {
   "cell_type": "code",
   "execution_count": 20,
   "metadata": {
    "ExecuteTime": {
     "end_time": "2020-10-02T05:46:34.173480Z",
     "start_time": "2020-10-02T05:46:34.169501Z"
    }
   },
   "outputs": [
    {
     "data": {
      "text/plain": [
       "[(1, 1), (2, 2), (3, 3), (4, 4)]"
      ]
     },
     "execution_count": 20,
     "metadata": {},
     "output_type": "execute_result"
    }
   ],
   "source": [
    "arr = ([1, 2, 3, 4])\n",
    "\n",
    "list(zip(iter(arr), iter(arr)))"
   ]
  },
  {
   "cell_type": "code",
   "execution_count": null,
   "metadata": {},
   "outputs": [],
   "source": []
  }
 ],
 "metadata": {
  "kernelspec": {
   "display_name": "Python 3",
   "language": "python",
   "name": "python3"
  },
  "language_info": {
   "codemirror_mode": {
    "name": "ipython",
    "version": 3
   },
   "file_extension": ".py",
   "mimetype": "text/x-python",
   "name": "python",
   "nbconvert_exporter": "python",
   "pygments_lexer": "ipython3",
   "version": "3.8.5"
  },
  "toc": {
   "base_numbering": 1,
   "nav_menu": {},
   "number_sections": true,
   "sideBar": true,
   "skip_h1_title": false,
   "title_cell": "Table of Contents",
   "title_sidebar": "Contents",
   "toc_cell": false,
   "toc_position": {},
   "toc_section_display": true,
   "toc_window_display": false
  },
  "varInspector": {
   "cols": {
    "lenName": 16,
    "lenType": 16,
    "lenVar": 40
   },
   "kernels_config": {
    "python": {
     "delete_cmd_postfix": "",
     "delete_cmd_prefix": "del ",
     "library": "var_list.py",
     "varRefreshCmd": "print(var_dic_list())"
    },
    "r": {
     "delete_cmd_postfix": ") ",
     "delete_cmd_prefix": "rm(",
     "library": "var_list.r",
     "varRefreshCmd": "cat(var_dic_list()) "
    }
   },
   "types_to_exclude": [
    "module",
    "function",
    "builtin_function_or_method",
    "instance",
    "_Feature"
   ],
   "window_display": false
  }
 },
 "nbformat": 4,
 "nbformat_minor": 4
}
